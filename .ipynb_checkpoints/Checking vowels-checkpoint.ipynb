{
 "cells": [
  {
   "cell_type": "code",
   "execution_count": 1,
   "id": "19efd298",
   "metadata": {},
   "outputs": [
    {
     "name": "stdout",
     "output_type": "stream",
     "text": [
      "Enter the character : a\n",
      "Vowel\n"
     ]
    }
   ],
   "source": [
    "ch = input(\"Enter the character : \")\n",
    "\n",
    "if(ch == 'a' or ch == 'e' or ch == 'i' or ch == 'o' or ch == 'u' or ch == 'A' or ch == 'E' or ch == 'I' or ch == 'O' or ch == 'U'):\n",
    "\n",
    "  print(\"Vowel\")\n",
    "\n",
    "else:\n",
    "\n",
    "  print(\"Consonant\")"
   ]
  },
  {
   "cell_type": "code",
   "execution_count": 2,
   "id": "61c8cbb7",
   "metadata": {},
   "outputs": [
    {
     "name": "stdout",
     "output_type": "stream",
     "text": [
      "Number of vowels in the given string is:  9\n"
     ]
    }
   ],
   "source": [
    "example = \"My name is Mugambi Murithi\"\n",
    "\n",
    "# initializing count variable\n",
    "count = 0\n",
    "\n",
    "# creating a list of vowels\n",
    "vowels = \"a\", \"e\", \"i\", \"o\", \"u\",\"A\", \"E\", \"I\", \"O\", \"U\"\n",
    "vowel1= \"aeiouAEIOU\"\n",
    "\n",
    "\n",
    "for i in range(len(example)):\n",
    "    if example[i] in vowel1:\n",
    "        count =count+1\n",
    "\n",
    "print(\"Number of vowels in the given string is: \", count)"
   ]
  },
  {
   "cell_type": "code",
   "execution_count": null,
   "id": "889cc48b",
   "metadata": {},
   "outputs": [],
   "source": []
  }
 ],
 "metadata": {
  "kernelspec": {
   "display_name": "Python 3 (ipykernel)",
   "language": "python",
   "name": "python3"
  },
  "language_info": {
   "codemirror_mode": {
    "name": "ipython",
    "version": 3
   },
   "file_extension": ".py",
   "mimetype": "text/x-python",
   "name": "python",
   "nbconvert_exporter": "python",
   "pygments_lexer": "ipython3",
   "version": "3.9.7"
  }
 },
 "nbformat": 4,
 "nbformat_minor": 5
}
