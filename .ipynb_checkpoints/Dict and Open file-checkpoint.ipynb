{
 "cells": [
  {
   "cell_type": "code",
   "execution_count": 1,
   "id": "49e5fdb9",
   "metadata": {},
   "outputs": [],
   "source": [
    "# Create a program that reads a text file containing a list of names and addresses, and then organizes the information into a dictionary.\n",
    "# Begin by creating a function called \"parse_file\" that takes in a file path as an argument.\n",
    "# Use the open() function to open the file and read its contents into a variable called \"file_contents\".\n",
    "# Split the contents of the file by newline characters to create a list of strings, where each string represents a line from the file.\n",
    "# Iterate through the list of strings and split each line by commas to create a list of lists, where each sublist represents the name and address of a person.\n",
    "# Create an empty dictionary called \"address_book\".\n",
    "# Iterate through the list of lists and use the first element of each sublist as the key, and the second element as the value, and add them to the \"address_book\" dictionary.\n",
    "# Return the \"address_book\" dictionary.\n",
    "# Test the function by calling it with the file path of a sample file and print the returned dictionary to the console.\n",
    "# Example file contents(you can add more on your own):\n",
    "# John Smith, 123 Main Street, Anytown USA\n",
    "# Jane Doe, 456 Park Avenue, Anytown USA\n",
    "# Bob Johnson, 789 Elm Street, Anytown USA\n",
    "# Example output:\n",
    "# {'John Smith': '123 Main Street, Anytown USA', 'Jane Doe': '456 Park Avenue, Anytown USA', 'Bob Johnson': '789 Elm Street, Anytown USA'} (edited) "
   ]
  },
  {
   "cell_type": "code",
   "execution_count": 2,
   "id": "e2ca5597",
   "metadata": {},
   "outputs": [],
   "source": [
    "#Use the open() function to open the file and read its contents into a variable called \"file_contents\".\n",
    "file_contents=open(\"Location.txt\",\"r\")"
   ]
  },
  {
   "cell_type": "code",
   "execution_count": null,
   "id": "79aa64d4",
   "metadata": {},
   "outputs": [],
   "source": []
  },
  {
   "cell_type": "code",
   "execution_count": null,
   "id": "ce63ec22",
   "metadata": {},
   "outputs": [],
   "source": [
    "with open(\"Location.txt\", 'r') as file_contents:\n",
    "    for line in file_contents:\n",
    "        data = line.split(\"\\n\")\n",
    "        print(data)"
   ]
  },
  {
   "cell_type": "code",
   "execution_count": 129,
   "id": "c173ccf8",
   "metadata": {},
   "outputs": [],
   "source": [
    "#Use the open() function to open the file and read its contents into a variable called \"file_contents\".\n",
    "\n",
    "\n",
    "def parse_file():\n",
    "    with open(\"Location.txt\", 'r') as file_contents:\n",
    "        file_list=[]\n",
    "        for string in file_contents.read().splitlines():# Split the contents of the file by newline characters to create a list of strings, where each string represents a line from the file.\n",
    "            file_list.append([string])\n",
    "    \n",
    "    a=file_list[0][0][:10]\n",
    "    b=file_list[0][0][12:]\n",
    "    c=file_list[1][0][:9]\n",
    "    d=file_list[1][0][10:]\n",
    "    e=file_list[2][0][:11]\n",
    "    f=file_list[2][0][13:]\n",
    "    g=file_list[3][0][:15]\n",
    "    h=file_list[3][0][17:]\n",
    "    i=file_list[4][0][:15]\n",
    "    j=file_list[4][0][17:]\n",
    "    \n",
    "    address_books={}\n",
    "    address_books[a]=b\n",
    "    address_books[c]=d\n",
    "    address_books[e]=f\n",
    "    address_books[g]=h\n",
    "    address_books[i]=j\n",
    "    \n",
    "    print(address_books)"
   ]
  },
  {
   "cell_type": "code",
   "execution_count": 130,
   "id": "df8bc4bc",
   "metadata": {},
   "outputs": [
    {
     "name": "stdout",
     "output_type": "stream",
     "text": [
      "{'John Smith': '123 Main Street Anytown USA', 'Jane Doe,': '456 Park Avenue Anytown USA', 'Bob Johnson': '789 Elm Street Anytown USA', 'Mugambi Murithi': 'Chuna D112 Nairobi KE', 'Kimathi Murithi': 'Chuna D112 Nairobi KE'}\n"
     ]
    }
   ],
   "source": [
    "parse_file()"
   ]
  },
  {
   "cell_type": "code",
   "execution_count": 133,
   "id": "3b36fead",
   "metadata": {},
   "outputs": [
    {
     "data": {
      "text/plain": [
       "['John Smith, 123 Main Street Anytown USA']"
      ]
     },
     "execution_count": 133,
     "metadata": {},
     "output_type": "execute_result"
    }
   ],
   "source": [
    "file_list[0]"
   ]
  },
  {
   "cell_type": "code",
   "execution_count": 89,
   "id": "4d9fdab2",
   "metadata": {},
   "outputs": [
    {
     "data": {
      "text/plain": [
       "'John Smith, 123 Main Street Anytown USA'"
      ]
     },
     "execution_count": 89,
     "metadata": {},
     "output_type": "execute_result"
    }
   ],
   "source": [
    "file_list[0][0]"
   ]
  },
  {
   "cell_type": "code",
   "execution_count": 122,
   "id": "2e62e177",
   "metadata": {},
   "outputs": [
    {
     "data": {
      "text/plain": [
       "'Chuna D112 Nairobi KE'"
      ]
     },
     "execution_count": 122,
     "metadata": {},
     "output_type": "execute_result"
    }
   ],
   "source": [
    "file_list[4][0][17:]"
   ]
  },
  {
   "cell_type": "code",
   "execution_count": 92,
   "id": "88c443c2",
   "metadata": {},
   "outputs": [
    {
     "data": {
      "text/plain": [
       "'J'"
      ]
     },
     "execution_count": 92,
     "metadata": {},
     "output_type": "execute_result"
    }
   ],
   "source": [
    "file_list[0][0][0]"
   ]
  },
  {
   "cell_type": "code",
   "execution_count": 103,
   "id": "fcc5e0b5",
   "metadata": {},
   "outputs": [
    {
     "name": "stdout",
     "output_type": "stream",
     "text": [
      "John Smith\n"
     ]
    }
   ],
   "source": [
    "k=file_list[0][0][:10]\n",
    "print(k)"
   ]
  },
  {
   "cell_type": "code",
   "execution_count": null,
   "id": "3e152302",
   "metadata": {},
   "outputs": [],
   "source": [
    "k"
   ]
  },
  {
   "cell_type": "code",
   "execution_count": 106,
   "id": "fa8ba360",
   "metadata": {},
   "outputs": [
    {
     "name": "stdout",
     "output_type": "stream",
     "text": [
      "123 Main Street Anytown USA\n"
     ]
    }
   ],
   "source": [
    "d=file_list[0][0][12:]\n",
    "print(d)"
   ]
  },
  {
   "cell_type": "code",
   "execution_count": 107,
   "id": "7a34e91a",
   "metadata": {},
   "outputs": [],
   "source": [
    "some_dict={}\n",
    "some_dict[k]=d"
   ]
  },
  {
   "cell_type": "code",
   "execution_count": 108,
   "id": "48103d3d",
   "metadata": {},
   "outputs": [
    {
     "name": "stdout",
     "output_type": "stream",
     "text": [
      "{'John Smith': '123 Main Street Anytown USA'}\n"
     ]
    }
   ],
   "source": [
    "print(some_dict)"
   ]
  },
  {
   "cell_type": "code",
   "execution_count": 91,
   "id": "1fd142f0",
   "metadata": {},
   "outputs": [
    {
     "data": {
      "text/plain": [
       "0"
      ]
     },
     "execution_count": 91,
     "metadata": {},
     "output_type": "execute_result"
    }
   ],
   "source": [
    "file_list[0][0].index(\"John Smith\")"
   ]
  },
  {
   "cell_type": "code",
   "execution_count": 104,
   "id": "85dbd345",
   "metadata": {},
   "outputs": [
    {
     "data": {
      "text/plain": [
       "17"
      ]
     },
     "execution_count": 104,
     "metadata": {},
     "output_type": "execute_result"
    }
   ],
   "source": [
    "list1 = [[10,13,17],[3,5,1],[13,11,12]]\n",
    "list1[0][2]"
   ]
  },
  {
   "cell_type": "code",
   "execution_count": 136,
   "id": "523e79ae",
   "metadata": {},
   "outputs": [
    {
     "name": "stdout",
     "output_type": "stream",
     "text": [
      "36\n"
     ]
    }
   ],
   "source": [
    "#take a value (say 50) and look just at the first sublist in List1, and subtract 10 (the first value), then add 13, then subtract 17?\n",
    "List1 = [[10,-13,17],[3,5,1],[13,11,12]]\n",
    "\n",
    "num = 50\n",
    "for i in List1[0]:\n",
    "    num =num-i\n",
    "print(num)"
   ]
  },
  {
   "cell_type": "code",
   "execution_count": 137,
   "id": "2274064b",
   "metadata": {},
   "outputs": [
    {
     "data": {
      "text/plain": [
       "36"
      ]
     },
     "execution_count": 137,
     "metadata": {},
     "output_type": "execute_result"
    }
   ],
   "source": [
    "50 - list1[0][0] + list1[0][1] - list1[0][2]"
   ]
  },
  {
   "cell_type": "code",
   "execution_count": 105,
   "id": "97a0402c",
   "metadata": {},
   "outputs": [
    {
     "name": "stdout",
     "output_type": "stream",
     "text": [
      "10\n",
      "13\n",
      "17\n",
      "3\n",
      "5\n",
      "1\n",
      "13\n",
      "11\n",
      "12\n"
     ]
    }
   ],
   "source": [
    "for i in range(len(list1)):\n",
    "    for j in range(len(list1[i])):\n",
    "        print(list1[i][j])"
   ]
  },
  {
   "cell_type": "code",
   "execution_count": 132,
   "id": "24ca9be3",
   "metadata": {},
   "outputs": [
    {
     "name": "stdout",
     "output_type": "stream",
     "text": [
      "a\n",
      "b\n",
      "c\n",
      "d\n",
      "e\n",
      "f\n",
      "g\n",
      "h\n",
      "i\n",
      "i\n"
     ]
    }
   ],
   "source": [
    "my_list = [['a', 'b', 'c'], ['d', 'e', 'f'], ['g', 'h', 'i']]\n",
    "\n",
    "for x in my_list:\n",
    "    for y in x:\n",
    "        print(y)"
   ]
  },
  {
   "cell_type": "code",
   "execution_count": null,
   "id": "f840c4fb",
   "metadata": {},
   "outputs": [],
   "source": []
  }
 ],
 "metadata": {
  "kernelspec": {
   "display_name": "Python 3 (ipykernel)",
   "language": "python",
   "name": "python3"
  },
  "language_info": {
   "codemirror_mode": {
    "name": "ipython",
    "version": 3
   },
   "file_extension": ".py",
   "mimetype": "text/x-python",
   "name": "python",
   "nbconvert_exporter": "python",
   "pygments_lexer": "ipython3",
   "version": "3.9.7"
  }
 },
 "nbformat": 4,
 "nbformat_minor": 5
}
