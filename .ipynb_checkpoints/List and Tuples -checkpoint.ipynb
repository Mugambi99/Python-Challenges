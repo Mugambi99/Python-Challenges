{
 "cells": [
  {
   "cell_type": "code",
   "execution_count": 1,
   "id": "85b64844",
   "metadata": {},
   "outputs": [],
   "source": [
    "# Objective: To test the candidate's knowledge of Python Lists and Tuples, and their ability to manipulate and extract information from them.\n",
    "# Instructions:\n",
    "# Create a Python script that performs the following tasks:\n",
    "# Create a list of integers called numbers with the following values: [1, 2, 3, 4, 5, 6, 7, 8, 9, 10]\n",
    "# Create a tuple of strings called words with the following values: (\"hello\", \"world\", \"python\", \"coding\", \"bootcamp\")\n",
    "# Use the numbers list and the words tuple to create a new list called result which contains the following values: [1, \"hello\", 2, \"world\", 3, \"python\", 4, \"coding\", 5, \"bootcamp\", 6, 7, 8, 9, 10]\n",
    "# Use the result list to extract the following sublists:\n",
    "# The sublist containing the values from index 2 to index 5\n",
    "# The sublist containing the last 5 elements of the result list\n",
    "# Use the result list to extract the following elements:\n",
    "# The element at index 4\n",
    "# The element at the last index of the result list\n",
    "# Use the result list to count the number of occurrences of the string \"python\"\n",
    "# Use the result list to determine if the integer 3 is present in the list\n",
    "# Use the result list to remove the element at index 4\n",
    "# Use the result list to insert the string \"programming\" at index 6\n",
    "# Use the result list to sort the list in ascending order\n",
    "# Use the result list to reverse the order of the elements in the list\n",
    "# Use the result list to convert it to a tuple called final_tuple\n",
    "# The script should be well-organized and commented on and should include appropriate error handling.\n",
    "# The script should be submitted as a single .py file.\n",
    "# Evaluation Criteria:\n",
    "# The script successfully performs all the tasks outlined in the instructions\n",
    "# The script is well-organized, commented, and includes appropriate error handling\n",
    "# The script demonstrates a clear understanding of Python Lists and Tuples and their manipulation\n",
    "# Good luck!"
   ]
  },
  {
   "cell_type": "code",
   "execution_count": 2,
   "id": "09a0f35f",
   "metadata": {},
   "outputs": [],
   "source": [
    "numbers = [1, 2, 3, 4, 5, 6, 7, 8, 9, 10]\n",
    "words = (\"hello\", \"world\", \"python\", \"coding\", \"bootcamp\")"
   ]
  },
  {
   "cell_type": "raw",
   "id": "7a4afea7",
   "metadata": {},
   "source": []
  }
 ],
 "metadata": {
  "kernelspec": {
   "display_name": "Python 3 (ipykernel)",
   "language": "python",
   "name": "python3"
  },
  "language_info": {
   "codemirror_mode": {
    "name": "ipython",
    "version": 3
   },
   "file_extension": ".py",
   "mimetype": "text/x-python",
   "name": "python",
   "nbconvert_exporter": "python",
   "pygments_lexer": "ipython3",
   "version": "3.9.7"
  }
 },
 "nbformat": 4,
 "nbformat_minor": 5
}
