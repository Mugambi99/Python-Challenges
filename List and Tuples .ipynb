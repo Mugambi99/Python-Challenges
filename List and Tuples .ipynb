{
 "cells": [
  {
   "cell_type": "code",
   "execution_count": 1,
   "id": "854745f1",
   "metadata": {},
   "outputs": [],
   "source": [
    "# Objective: To test the candidate's knowledge of Python Lists and Tuples, and their ability to manipulate and extract information from them.\n",
    "# Instructions:\n",
    "# Create a Python script that performs the following tasks:\n",
    "# Create a list of integers called numbers with the following values: [1, 2, 3, 4, 5, 6, 7, 8, 9, 10]\n",
    "# Create a tuple of strings called words with the following values: (\"hello\", \"world\", \"python\", \"coding\", \"bootcamp\")\n",
    "# Use the numbers list and the words tuple to create a new list called result which contains the following values: [1, \"hello\", 2, \"world\", 3, \"python\", 4, \"coding\", 5, \"bootcamp\", 6, 7, 8, 9, 10]\n",
    "# Use the result list to extract the following sublists:\n",
    "# The sublist containing the values from index 2 to index 5\n",
    "# The sublist containing the last 5 elements of the result list\n",
    "# Use the result list to extract the following elements:\n",
    "# The element at index 4\n",
    "# The element at the last index of the result list\n",
    "# Use the result list to count the number of occurrences of the string \"python\"\n",
    "# Use the result list to determine if the integer 3 is present in the list\n",
    "# Use the result list to remove the element at index 4\n",
    "# Use the result list to insert the string \"programming\" at index 6\n",
    "# Use the result list to sort the list in ascending order\n",
    "# Use the result list to reverse the order of the elements in the list\n",
    "# Use the result list to convert it to a tuple called final_tuple\n",
    "# The script should be well-organized and commented on and should include appropriate error handling.\n",
    "# The script should be submitted as a single .py file.\n",
    "# Evaluation Criteria:\n",
    "# The script successfully performs all the tasks outlined in the instructions\n",
    "# The script is well-organized, commented, and includes appropriate error handling\n",
    "# The script demonstrates a clear understanding of Python Lists and Tuples and their manipulation\n",
    "# Good luck!"
   ]
  },
  {
   "cell_type": "code",
   "execution_count": 13,
   "id": "3d6ccf52",
   "metadata": {},
   "outputs": [
    {
     "name": "stdout",
     "output_type": "stream",
     "text": [
      "[1, 2, 3, 4, 5, 6, 7, 8, 9, 10]\n"
     ]
    }
   ],
   "source": [
    "numbers = [1, 2, 3, 4, 5, 6, 7, 8, 9, 10]\n",
    "words = (\"hello\", \"world\", \"python\", \"coding\", \"bootcamp\")\n",
    "print(numbers)"
   ]
  },
  {
   "cell_type": "code",
   "execution_count": 44,
   "id": "e0fc448a",
   "metadata": {},
   "outputs": [
    {
     "name": "stdout",
     "output_type": "stream",
     "text": [
      "[1, 2, 3, 4, 5, 6, 7, 8, 9, 10]\n"
     ]
    }
   ],
   "source": [
    "result=[]\n",
    "\n",
    "for i in numbers:\n",
    "    result.append(i)\n",
    "print(result) "
   ]
  },
  {
   "cell_type": "code",
   "execution_count": 45,
   "id": "772885ce",
   "metadata": {},
   "outputs": [
    {
     "name": "stdout",
     "output_type": "stream",
     "text": [
      "[1, 2, 3, 4, 5, 6, 7, 8, 9, 10, 'hello', 'world', 'python', 'coding', 'bootcamp']\n"
     ]
    }
   ],
   "source": [
    "result=[]\n",
    "words_list=list(words)\n",
    "\n",
    "for i in numbers:\n",
    "    result.append(i)\n",
    "for j in words_list:\n",
    "    result.append(j)\n",
    "print(result) "
   ]
  },
  {
   "cell_type": "code",
   "execution_count": 46,
   "id": "438af045",
   "metadata": {},
   "outputs": [
    {
     "name": "stdout",
     "output_type": "stream",
     "text": [
      "[1, 'hello', 'world', 'python', 'coding', 'bootcamp', 2, 'hello', 'world', 'python', 'coding', 'bootcamp', 3, 'hello', 'world', 'python', 'coding', 'bootcamp', 4, 'hello', 'world', 'python', 'coding', 'bootcamp', 5, 'hello', 'world', 'python', 'coding', 'bootcamp', 6, 'hello', 'world', 'python', 'coding', 'bootcamp', 7, 'hello', 'world', 'python', 'coding', 'bootcamp', 8, 'hello', 'world', 'python', 'coding', 'bootcamp', 9, 'hello', 'world', 'python', 'coding', 'bootcamp', 10, 'hello', 'world', 'python', 'coding', 'bootcamp']\n"
     ]
    }
   ],
   "source": [
    "result=[]\n",
    "words_list=list(words)\n",
    "\n",
    "for i in numbers:\n",
    "    result.append(i)\n",
    "    for j in words_list:\n",
    "        result.append(j)\n",
    "print(result) "
   ]
  },
  {
   "cell_type": "code",
   "execution_count": 49,
   "id": "450f8d43",
   "metadata": {},
   "outputs": [
    {
     "name": "stdout",
     "output_type": "stream",
     "text": [
      "[1, 'hello', 1, 'world', 1, 'python', 1, 'coding', 1, 'bootcamp', 2, 'hello', 2, 'world', 2, 'python', 2, 'coding', 2, 'bootcamp', 3, 'hello', 3, 'world', 3, 'python', 3, 'coding', 3, 'bootcamp', 4, 'hello', 4, 'world', 4, 'python', 4, 'coding', 4, 'bootcamp', 5, 'hello', 5, 'world', 5, 'python', 5, 'coding', 5, 'bootcamp', 6, 'hello', 6, 'world', 6, 'python', 6, 'coding', 6, 'bootcamp', 7, 'hello', 7, 'world', 7, 'python', 7, 'coding', 7, 'bootcamp', 8, 'hello', 8, 'world', 8, 'python', 8, 'coding', 8, 'bootcamp', 9, 'hello', 9, 'world', 9, 'python', 9, 'coding', 9, 'bootcamp', 10, 'hello', 10, 'world', 10, 'python', 10, 'coding', 10, 'bootcamp']\n"
     ]
    }
   ],
   "source": [
    "result=[]\n",
    "words_list=list(words)\n",
    "\n",
    "for i in (numbers):\n",
    "    for j in words_list:\n",
    "        result.append(i)\n",
    "        result.append(j)\n",
    "        \n",
    "print(result) "
   ]
  },
  {
   "cell_type": "code",
   "execution_count": 50,
   "id": "8903c793",
   "metadata": {},
   "outputs": [
    {
     "name": "stdout",
     "output_type": "stream",
     "text": [
      "[1, 2, 3, 4, 5, 6, 7, 8, 9, 10, 'hello', 'world', 'python', 'coding', 'bootcamp']\n"
     ]
    }
   ],
   "source": [
    "result=[]\n",
    "words_list=list(words) #convert tuple to list \n",
    "\n",
    "for i in numbers:\n",
    "    result.append(i)\n",
    "for j in words_list:\n",
    "    result.append(j)\n",
    "print(result)"
   ]
  },
  {
   "cell_type": "code",
   "execution_count": 52,
   "id": "fc65c398",
   "metadata": {},
   "outputs": [
    {
     "data": {
      "text/plain": [
       "['hello', 'world', 'python', 'coding', 'bootcamp']"
      ]
     },
     "execution_count": 52,
     "metadata": {},
     "output_type": "execute_result"
    }
   ],
   "source": [
    "#The sublist containing the values from index 2 to index 5\n",
    "result[2:6]\n",
    "\n",
    "# The sublist containing the last 5 elements of the result list\n",
    "result[-5:]"
   ]
  },
  {
   "cell_type": "code",
   "execution_count": 53,
   "id": "0d7cdc5f",
   "metadata": {},
   "outputs": [
    {
     "name": "stdout",
     "output_type": "stream",
     "text": [
      "5 bootcamp\n"
     ]
    }
   ],
   "source": [
    "# Use the result list to extract the following elements:\n",
    "# The element at index 4\n",
    "# The element at the last index of the result list\n",
    "c=result[4]\n",
    "d=result[-1]\n",
    "\n",
    "print(c,d)"
   ]
  },
  {
   "cell_type": "code",
   "execution_count": 54,
   "id": "7db47c30",
   "metadata": {},
   "outputs": [
    {
     "data": {
      "text/plain": [
       "1"
      ]
     },
     "execution_count": 54,
     "metadata": {},
     "output_type": "execute_result"
    }
   ],
   "source": [
    "#Use the result list to count the number of occurrences of the string \"python\"\n",
    "result.count(\"python\")"
   ]
  },
  {
   "cell_type": "code",
   "execution_count": 55,
   "id": "682a75f2",
   "metadata": {},
   "outputs": [
    {
     "data": {
      "text/plain": [
       "True"
      ]
     },
     "execution_count": 55,
     "metadata": {},
     "output_type": "execute_result"
    }
   ],
   "source": [
    "#Use the result list to determine if the integer 3 is present in the list\n",
    "3 in result"
   ]
  },
  {
   "cell_type": "code",
   "execution_count": 57,
   "id": "e8e8060a",
   "metadata": {},
   "outputs": [
    {
     "data": {
      "text/plain": [
       "5"
      ]
     },
     "execution_count": 57,
     "metadata": {},
     "output_type": "execute_result"
    }
   ],
   "source": [
    "#Use the result list to remove the element at index 4\n",
    "result.pop(4)"
   ]
  },
  {
   "cell_type": "code",
   "execution_count": null,
   "id": "c587a6bd",
   "metadata": {},
   "outputs": [],
   "source": [
    "#Use the result list to insert the string \"programming\" at index 6\n",
    "result.insert(6,\"programming\")"
   ]
  },
  {
   "cell_type": "code",
   "execution_count": 64,
   "id": "8359a627",
   "metadata": {},
   "outputs": [
    {
     "ename": "TypeError",
     "evalue": "'<' not supported between instances of 'str' and 'int'",
     "output_type": "error",
     "traceback": [
      "\u001b[1;31m---------------------------------------------------------------------------\u001b[0m",
      "\u001b[1;31mTypeError\u001b[0m                                 Traceback (most recent call last)",
      "\u001b[1;32m~\\AppData\\Local\\Temp/ipykernel_8804/2550844453.py\u001b[0m in \u001b[0;36m<module>\u001b[1;34m\u001b[0m\n\u001b[0;32m      1\u001b[0m \u001b[1;31m#Use the result list to sort the list in ascending order\u001b[0m\u001b[1;33m\u001b[0m\u001b[1;33m\u001b[0m\u001b[0m\n\u001b[1;32m----> 2\u001b[1;33m \u001b[0mresult\u001b[0m\u001b[1;33m.\u001b[0m\u001b[0msort\u001b[0m\u001b[1;33m(\u001b[0m\u001b[1;33m)\u001b[0m\u001b[1;33m\u001b[0m\u001b[1;33m\u001b[0m\u001b[0m\n\u001b[0m",
      "\u001b[1;31mTypeError\u001b[0m: '<' not supported between instances of 'str' and 'int'"
     ]
    }
   ],
   "source": [
    "#Use the result list to sort the list in ascending order\n",
    "result.sort()"
   ]
  },
  {
   "cell_type": "code",
   "execution_count": 65,
   "id": "994fb80c",
   "metadata": {},
   "outputs": [
    {
     "data": {
      "text/plain": [
       "['bootcamp',\n",
       " 'coding',\n",
       " 'python',\n",
       " 'world',\n",
       " 'hello',\n",
       " 10,\n",
       " 9,\n",
       " 8,\n",
       " 'programming',\n",
       " 7,\n",
       " 6,\n",
       " 4,\n",
       " 3,\n",
       " 2,\n",
       " 1]"
      ]
     },
     "execution_count": 65,
     "metadata": {},
     "output_type": "execute_result"
    }
   ],
   "source": [
    "#Use the result list to reverse the order of the elements in the list\n",
    "result.reverse()\n",
    "result"
   ]
  },
  {
   "cell_type": "code",
   "execution_count": 71,
   "id": "fd62ef7c",
   "metadata": {},
   "outputs": [
    {
     "data": {
      "text/plain": [
       "tuple"
      ]
     },
     "execution_count": 71,
     "metadata": {},
     "output_type": "execute_result"
    }
   ],
   "source": [
    "#Use the result list to convert it to a tuple called final_tuple\n",
    "final_tuple=tuple(result)\n",
    "final_tuple\n",
    "type(final_tuple)"
   ]
  },
  {
   "cell_type": "code",
   "execution_count": 1,
   "id": "19e97c1c",
   "metadata": {},
   "outputs": [
    {
     "name": "stdout",
     "output_type": "stream",
     "text": [
      "Initialized empty Git repository in C:/Users/HP/ZINDUA/Assignment and Quiz/Challenges/.git/\n"
     ]
    }
   ],
   "source": [
    "#Use the !git init command to initialize a new git repository.\n",
    "!git init"
   ]
  },
  {
   "cell_type": "code",
   "execution_count": 3,
   "id": "028b8ca2",
   "metadata": {},
   "outputs": [
    {
     "name": "stderr",
     "output_type": "stream",
     "text": [
      "warning: in the working copy of '.ipynb_checkpoints/Checking vowels-checkpoint.ipynb', LF will be replaced by CRLF the next time Git touches it\n",
      "warning: in the working copy of '.ipynb_checkpoints/Dict and Open file-checkpoint.ipynb', LF will be replaced by CRLF the next time Git touches it\n",
      "warning: in the working copy of '.ipynb_checkpoints/List and Tuples -checkpoint.ipynb', LF will be replaced by CRLF the next time Git touches it\n",
      "warning: in the working copy of '.ipynb_checkpoints/open file and palindrome checker-checkpoint.ipynb', LF will be replaced by CRLF the next time Git touches it\n",
      "warning: in the working copy of 'Checking vowels.ipynb', LF will be replaced by CRLF the next time Git touches it\n",
      "warning: in the working copy of 'Dict and Open file.ipynb', LF will be replaced by CRLF the next time Git touches it\n",
      "warning: in the working copy of 'List and Tuples .ipynb', LF will be replaced by CRLF the next time Git touches it\n",
      "warning: in the working copy of 'open file and palindrome checker.ipynb', LF will be replaced by CRLF the next time Git touches it\n"
     ]
    }
   ],
   "source": [
    "#Use the !git add command to add the Jupyter Notebook file to the repository.\n",
    "!git add ."
   ]
  },
  {
   "cell_type": "code",
   "execution_count": null,
   "id": "cbd193d7",
   "metadata": {},
   "outputs": [],
   "source": []
  }
 ],
 "metadata": {
  "kernelspec": {
   "display_name": "Python 3 (ipykernel)",
   "language": "python",
   "name": "python3"
  },
  "language_info": {
   "codemirror_mode": {
    "name": "ipython",
    "version": 3
   },
   "file_extension": ".py",
   "mimetype": "text/x-python",
   "name": "python",
   "nbconvert_exporter": "python",
   "pygments_lexer": "ipython3",
   "version": "3.9.7"
  }
 },
 "nbformat": 4,
 "nbformat_minor": 5
}
